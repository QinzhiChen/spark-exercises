{
 "cells": [
  {
   "cell_type": "code",
   "execution_count": 38,
   "id": "42ff80d5",
   "metadata": {},
   "outputs": [],
   "source": [
    "import pandas as pd\n",
    "import numpy as np\n",
    "import pyspark\n",
    "import pyspark.sql.functions as sf\n",
    "import warnings\n",
    "warnings.filterwarnings(\"ignore\")\n",
    "from pyspark.sql.functions import month, year, quarter\n",
    "from pyspark.sql.functions import concat, sum, avg, min, max, count, mean\n",
    "from pyspark.sql.functions import asc, desc"
   ]
  },
  {
   "cell_type": "code",
   "execution_count": 39,
   "id": "6a9fb8a1",
   "metadata": {},
   "outputs": [],
   "source": [
    "spark = pyspark.sql.SparkSession.builder.getOrCreate()"
   ]
  },
  {
   "cell_type": "code",
   "execution_count": 90,
   "id": "e889c51d",
   "metadata": {},
   "outputs": [
    {
     "data": {
      "text/html": [
       "\n",
       "            <div>\n",
       "                <p><b>SparkSession - in-memory</b></p>\n",
       "                \n",
       "        <div>\n",
       "            <p><b>SparkContext</b></p>\n",
       "\n",
       "            <p><a href=\"http://192.168.1.226:4040\">Spark UI</a></p>\n",
       "\n",
       "            <dl>\n",
       "              <dt>Version</dt>\n",
       "                <dd><code>v3.3.0</code></dd>\n",
       "              <dt>Master</dt>\n",
       "                <dd><code>local[*]</code></dd>\n",
       "              <dt>AppName</dt>\n",
       "                <dd><code>pyspark-shell</code></dd>\n",
       "            </dl>\n",
       "        </div>\n",
       "        \n",
       "            </div>\n",
       "        "
      ],
      "text/plain": [
       "<pyspark.sql.session.SparkSession at 0x11e357ca0>"
      ]
     },
     "execution_count": 90,
     "metadata": {},
     "output_type": "execute_result"
    }
   ],
   "source": [
    "spark"
   ]
  },
  {
   "cell_type": "code",
   "execution_count": 96,
   "id": "124d8b37",
   "metadata": {},
   "outputs": [],
   "source": [
    "df =spark.createDataFrame(pd.DataFrame({'language': ['Python', 'Java', 'C++', 'Go', 'SQL', 'SAP','javascript']}))"
   ]
  },
  {
   "cell_type": "code",
   "execution_count": 97,
   "id": "7a4985ae",
   "metadata": {},
   "outputs": [
    {
     "name": "stdout",
     "output_type": "stream",
     "text": [
      "+----------+\n",
      "|  language|\n",
      "+----------+\n",
      "|    Python|\n",
      "|      Java|\n",
      "|       C++|\n",
      "|        Go|\n",
      "|       SQL|\n",
      "|       SAP|\n",
      "|javascript|\n",
      "+----------+\n",
      "\n"
     ]
    }
   ],
   "source": [
    "df.show()"
   ]
  },
  {
   "cell_type": "code",
   "execution_count": 98,
   "id": "7793d4aa",
   "metadata": {},
   "outputs": [
    {
     "name": "stdout",
     "output_type": "stream",
     "text": [
      "root\n",
      " |-- language: string (nullable = true)\n",
      "\n"
     ]
    }
   ],
   "source": [
    "df.printSchema()"
   ]
  },
  {
   "cell_type": "code",
   "execution_count": 99,
   "id": "6c5f1445",
   "metadata": {},
   "outputs": [
    {
     "data": {
      "text/plain": [
       "7"
      ]
     },
     "execution_count": 99,
     "metadata": {},
     "output_type": "execute_result"
    }
   ],
   "source": [
    "df.count()"
   ]
  },
  {
   "cell_type": "code",
   "execution_count": 100,
   "id": "01a85964",
   "metadata": {},
   "outputs": [
    {
     "name": "stdout",
     "output_type": "stream",
     "text": [
      "+--------+\n",
      "|language|\n",
      "+--------+\n",
      "|  Python|\n",
      "|    Java|\n",
      "|     C++|\n",
      "|      Go|\n",
      "|     SQL|\n",
      "+--------+\n",
      "only showing top 5 rows\n",
      "\n"
     ]
    }
   ],
   "source": [
    "df.show(5)"
   ]
  },
  {
   "cell_type": "code",
   "execution_count": 45,
   "id": "b655058a",
   "metadata": {},
   "outputs": [],
   "source": [
    "from pydataset import data"
   ]
  },
  {
   "cell_type": "code",
   "execution_count": 46,
   "id": "ea9ffd53",
   "metadata": {},
   "outputs": [],
   "source": [
    "mpg = spark.createDataFrame(data('mpg'))"
   ]
  },
  {
   "cell_type": "code",
   "execution_count": 47,
   "id": "eba4778d",
   "metadata": {},
   "outputs": [
    {
     "name": "stdout",
     "output_type": "stream",
     "text": [
      "+-------------------------------------------+\n",
      "|result                                     |\n",
      "+-------------------------------------------+\n",
      "|The 1999 audi has a 4 cylinder engine.     |\n",
      "|The 1999 audi has a 4 cylinder engine.     |\n",
      "|The 2008 audi has a 4 cylinder engine.     |\n",
      "|The 2008 audi has a 4 cylinder engine.     |\n",
      "|The 1999 audi has a 6 cylinder engine.     |\n",
      "|The 1999 audi has a 6 cylinder engine.     |\n",
      "|The 2008 audi has a 6 cylinder engine.     |\n",
      "|The 1999 audi has a 4 cylinder engine.     |\n",
      "|The 1999 audi has a 4 cylinder engine.     |\n",
      "|The 2008 audi has a 4 cylinder engine.     |\n",
      "|The 2008 audi has a 4 cylinder engine.     |\n",
      "|The 1999 audi has a 6 cylinder engine.     |\n",
      "|The 1999 audi has a 6 cylinder engine.     |\n",
      "|The 2008 audi has a 6 cylinder engine.     |\n",
      "|The 2008 audi has a 6 cylinder engine.     |\n",
      "|The 1999 audi has a 6 cylinder engine.     |\n",
      "|The 2008 audi has a 6 cylinder engine.     |\n",
      "|The 2008 audi has a 8 cylinder engine.     |\n",
      "|The 2008 chevrolet has a 8 cylinder engine.|\n",
      "|The 2008 chevrolet has a 8 cylinder engine.|\n",
      "+-------------------------------------------+\n",
      "only showing top 20 rows\n",
      "\n"
     ]
    }
   ],
   "source": [
    "dft = mpg.select(sf.concat(sf.lit(\"The \"),\n",
    "                  mpg.year,\n",
    "                  sf.lit(\" \"),\n",
    "                  mpg.manufacturer,\n",
    "                  sf.lit(\" has a \"),\n",
    "                  mpg.cyl, \n",
    "                  sf.lit(\" cylinder engine.\")\n",
    "                 ).alias('result')\n",
    "          )\n",
    "dft.show(truncate=False)"
   ]
  },
  {
   "cell_type": "code",
   "execution_count": 48,
   "id": "4834c67b",
   "metadata": {},
   "outputs": [
    {
     "name": "stdout",
     "output_type": "stream",
     "text": [
      "+------+\n",
      "| trans|\n",
      "+------+\n",
      "|  auto|\n",
      "|manual|\n",
      "|manual|\n",
      "|  auto|\n",
      "|  auto|\n",
      "+------+\n",
      "only showing top 5 rows\n",
      "\n"
     ]
    }
   ],
   "source": [
    "mpg.select(sf.regexp_replace(\"trans\", r\"\\(.+\\)\", \"\").alias(\"trans\")).show(5)"
   ]
  },
  {
   "cell_type": "code",
   "execution_count": 49,
   "id": "becb8ed0",
   "metadata": {},
   "outputs": [],
   "source": [
    "tips = spark.createDataFrame(data('tips'))"
   ]
  },
  {
   "cell_type": "code",
   "execution_count": 50,
   "id": "83aa3389",
   "metadata": {},
   "outputs": [
    {
     "name": "stdout",
     "output_type": "stream",
     "text": [
      "+----------+----+------+------+---+------+----+\n",
      "|total_bill| tip|   sex|smoker|day|  time|size|\n",
      "+----------+----+------+------+---+------+----+\n",
      "|     16.99|1.01|Female|    No|Sun|Dinner|   2|\n",
      "|     10.34|1.66|  Male|    No|Sun|Dinner|   3|\n",
      "|     21.01| 3.5|  Male|    No|Sun|Dinner|   3|\n",
      "|     23.68|3.31|  Male|    No|Sun|Dinner|   2|\n",
      "|     24.59|3.61|Female|    No|Sun|Dinner|   4|\n",
      "|     25.29|4.71|  Male|    No|Sun|Dinner|   4|\n",
      "|      8.77| 2.0|  Male|    No|Sun|Dinner|   2|\n",
      "|     26.88|3.12|  Male|    No|Sun|Dinner|   4|\n",
      "|     15.04|1.96|  Male|    No|Sun|Dinner|   2|\n",
      "|     14.78|3.23|  Male|    No|Sun|Dinner|   2|\n",
      "|     10.27|1.71|  Male|    No|Sun|Dinner|   2|\n",
      "|     35.26| 5.0|Female|    No|Sun|Dinner|   4|\n",
      "|     15.42|1.57|  Male|    No|Sun|Dinner|   2|\n",
      "|     18.43| 3.0|  Male|    No|Sun|Dinner|   4|\n",
      "|     14.83|3.02|Female|    No|Sun|Dinner|   2|\n",
      "|     21.58|3.92|  Male|    No|Sun|Dinner|   2|\n",
      "|     10.33|1.67|Female|    No|Sun|Dinner|   3|\n",
      "|     16.29|3.71|  Male|    No|Sun|Dinner|   3|\n",
      "|     16.97| 3.5|Female|    No|Sun|Dinner|   3|\n",
      "|     20.65|3.35|  Male|    No|Sat|Dinner|   3|\n",
      "+----------+----+------+------+---+------+----+\n",
      "only showing top 20 rows\n",
      "\n"
     ]
    }
   ],
   "source": [
    "tips.show()"
   ]
  },
  {
   "cell_type": "code",
   "execution_count": 51,
   "id": "179ae1d5",
   "metadata": {},
   "outputs": [
    {
     "name": "stdout",
     "output_type": "stream",
     "text": [
      "+------+---------------------+\n",
      "|smoker|(count(smoker) / 244)|\n",
      "+------+---------------------+\n",
      "|    No|   0.6188524590163934|\n",
      "|   Yes|  0.38114754098360654|\n",
      "+------+---------------------+\n",
      "\n"
     ]
    }
   ],
   "source": [
    "s = tips.groupBy('smoker').agg(sf.count\n",
    "                                (tips.smoker)/244)\n",
    "s.show()"
   ]
  },
  {
   "cell_type": "code",
   "execution_count": 52,
   "id": "5a06a444",
   "metadata": {},
   "outputs": [
    {
     "name": "stdout",
     "output_type": "stream",
     "text": [
      "+----------+----+------+------+---+------+----+------------------+\n",
      "|total_bill| tip|   sex|smoker|day|  time|size|           tip_pct|\n",
      "+----------+----+------+------+---+------+----+------------------+\n",
      "|     16.99|1.01|Female|    No|Sun|Dinner|   2|5.9446733372572105|\n",
      "|     10.34|1.66|  Male|    No|Sun|Dinner|   3|16.054158607350097|\n",
      "|     21.01| 3.5|  Male|    No|Sun|Dinner|   3|16.658733936220845|\n",
      "|     23.68|3.31|  Male|    No|Sun|Dinner|   2| 13.97804054054054|\n",
      "|     24.59|3.61|Female|    No|Sun|Dinner|   4|14.680764538430255|\n",
      "|     25.29|4.71|  Male|    No|Sun|Dinner|   4| 18.62396204033215|\n",
      "|      8.77| 2.0|  Male|    No|Sun|Dinner|   2| 22.80501710376283|\n",
      "|     26.88|3.12|  Male|    No|Sun|Dinner|   4|11.607142857142858|\n",
      "|     15.04|1.96|  Male|    No|Sun|Dinner|   2|13.031914893617023|\n",
      "|     14.78|3.23|  Male|    No|Sun|Dinner|   2|21.853856562922868|\n",
      "|     10.27|1.71|  Male|    No|Sun|Dinner|   2| 16.65043816942551|\n",
      "|     35.26| 5.0|Female|    No|Sun|Dinner|   4|14.180374361883155|\n",
      "|     15.42|1.57|  Male|    No|Sun|Dinner|   2|10.181582360570687|\n",
      "|     18.43| 3.0|  Male|    No|Sun|Dinner|   4|16.277807921866522|\n",
      "|     14.83|3.02|Female|    No|Sun|Dinner|   2|20.364126770060686|\n",
      "|     21.58|3.92|  Male|    No|Sun|Dinner|   2|18.164967562557923|\n",
      "|     10.33|1.67|Female|    No|Sun|Dinner|   3| 16.16650532429816|\n",
      "|     16.29|3.71|  Male|    No|Sun|Dinner|   3|22.774708410067525|\n",
      "|     16.97| 3.5|Female|    No|Sun|Dinner|   3|20.624631703005306|\n",
      "|     20.65|3.35|  Male|    No|Sat|Dinner|   3|16.222760290556902|\n",
      "+----------+----+------+------+---+------+----+------------------+\n",
      "only showing top 20 rows\n",
      "\n"
     ]
    }
   ],
   "source": [
    "tipspc = tips.withColumn('tip_pct', sf.expr('tip / total_bill * 100'))\n",
    "tipspc.show()"
   ]
  },
  {
   "cell_type": "code",
   "execution_count": 87,
   "id": "d26047b4",
   "metadata": {},
   "outputs": [
    {
     "name": "stdout",
     "output_type": "stream",
     "text": [
      "+------+------+--------+\n",
      "|   sex|smoker|tips_pct|\n",
      "+------+------+--------+\n",
      "|  Male|    No| 16.0669|\n",
      "|Female|    No| 15.6921|\n",
      "|  Male|   Yes| 15.2771|\n",
      "|Female|   Yes|  18.215|\n",
      "+------+------+--------+\n",
      "\n"
     ]
    }
   ],
   "source": [
    "tipspc.groupBy(\"sex\", \"smoker\").agg(sf.round(\n",
    "        sf.mean(\"tip_pct\"), 4)\n",
    "         .alias(\"tips_pct\")\n",
    "    ).show()"
   ]
  },
  {
   "cell_type": "code",
   "execution_count": 54,
   "id": "354d3aca",
   "metadata": {},
   "outputs": [
    {
     "name": "stdout",
     "output_type": "stream",
     "text": [
      "+-------------------+-------------+--------+--------+----+-------+\n",
      "|               date|precipitation|temp_max|temp_min|wind|weather|\n",
      "+-------------------+-------------+--------+--------+----+-------+\n",
      "|2012-01-01 00:00:00|          0.0|    12.8|     5.0| 4.7|drizzle|\n",
      "|2012-01-02 00:00:00|         10.9|    10.6|     2.8| 4.5|   rain|\n",
      "|2012-01-03 00:00:00|          0.8|    11.7|     7.2| 2.3|   rain|\n",
      "|2012-01-04 00:00:00|         20.3|    12.2|     5.6| 4.7|   rain|\n",
      "|2012-01-05 00:00:00|          1.3|     8.9|     2.8| 6.1|   rain|\n",
      "|2012-01-06 00:00:00|          2.5|     4.4|     2.2| 2.2|   rain|\n",
      "|2012-01-07 00:00:00|          0.0|     7.2|     2.8| 2.3|   rain|\n",
      "|2012-01-08 00:00:00|          0.0|    10.0|     2.8| 2.0|    sun|\n",
      "|2012-01-09 00:00:00|          4.3|     9.4|     5.0| 3.4|   rain|\n",
      "|2012-01-10 00:00:00|          1.0|     6.1|     0.6| 3.4|   rain|\n",
      "|2012-01-11 00:00:00|          0.0|     6.1|    -1.1| 5.1|    sun|\n",
      "|2012-01-12 00:00:00|          0.0|     6.1|    -1.7| 1.9|    sun|\n",
      "|2012-01-13 00:00:00|          0.0|     5.0|    -2.8| 1.3|    sun|\n",
      "|2012-01-14 00:00:00|          4.1|     4.4|     0.6| 5.3|   snow|\n",
      "|2012-01-15 00:00:00|          5.3|     1.1|    -3.3| 3.2|   snow|\n",
      "|2012-01-16 00:00:00|          2.5|     1.7|    -2.8| 5.0|   snow|\n",
      "|2012-01-17 00:00:00|          8.1|     3.3|     0.0| 5.6|   snow|\n",
      "|2012-01-18 00:00:00|         19.8|     0.0|    -2.8| 5.0|   snow|\n",
      "|2012-01-19 00:00:00|         15.2|    -1.1|    -2.8| 1.6|   snow|\n",
      "|2012-01-20 00:00:00|         13.5|     7.2|    -1.1| 2.3|   snow|\n",
      "+-------------------+-------------+--------+--------+----+-------+\n",
      "only showing top 20 rows\n",
      "\n"
     ]
    }
   ],
   "source": [
    "from vega_datasets import data\n",
    "weather = spark.createDataFrame(data.seattle_weather())\n",
    "weather.show()"
   ]
  },
  {
   "cell_type": "code",
   "execution_count": 55,
   "id": "a86e057f",
   "metadata": {},
   "outputs": [
    {
     "name": "stdout",
     "output_type": "stream",
     "text": [
      "+----------+----------+\n",
      "|temp_max_f|temp_min_f|\n",
      "+----------+----------+\n",
      "|     55.04|      41.0|\n",
      "|     51.08|     37.04|\n",
      "|     53.06|     44.96|\n",
      "|     53.96|     42.08|\n",
      "|     48.02|     37.04|\n",
      "+----------+----------+\n",
      "only showing top 5 rows\n",
      "\n"
     ]
    }
   ],
   "source": [
    "weather.select((weather.temp_max * 9/5 + 32).alias('temp_max_f'), \n",
    "               (weather.temp_min * 9/5 + 32).alias('temp_min_f')).show(5)"
   ]
  },
  {
   "cell_type": "code",
   "execution_count": 58,
   "id": "dd37e6cc",
   "metadata": {},
   "outputs": [
    {
     "name": "stdout",
     "output_type": "stream",
     "text": [
      "+-----+-------------------+\n",
      "|month|           rainfall|\n",
      "+-----+-------------------+\n",
      "|   11|  5.354166666666667|\n",
      "|   12|  5.021774193548388|\n",
      "|    3|  4.888709677419355|\n",
      "|   10|  4.059677419354839|\n",
      "|    1| 3.7580645161290316|\n",
      "|    2|  3.734513274336283|\n",
      "|    4|  3.128333333333333|\n",
      "|    9| 1.9624999999999997|\n",
      "|    5| 1.6733870967741935|\n",
      "|    8| 1.3201612903225806|\n",
      "|    6| 1.1075000000000002|\n",
      "|    7|0.38870967741935486|\n",
      "+-----+-------------------+\n",
      "\n"
     ]
    }
   ],
   "source": [
    "weather=weather.withColumn(\"month\", month(\"date\"))\n",
    "weather.groupBy(\"month\").agg(mean(\"precipitation\").alias(\"rainfall\")).sort(desc(\"rainfall\")).show()"
   ]
  },
  {
   "cell_type": "code",
   "execution_count": 61,
   "id": "87d30ade",
   "metadata": {},
   "outputs": [
    {
     "name": "stdout",
     "output_type": "stream",
     "text": [
      "+----+------------------+\n",
      "|year|          windiest|\n",
      "+----+------------------+\n",
      "|2012| 3.400819672131148|\n",
      "|2014|3.3876712328767122|\n",
      "|2015|3.1597260273972596|\n",
      "|2013|3.0158904109589044|\n",
      "+----+------------------+\n",
      "\n"
     ]
    }
   ],
   "source": [
    "weather=weather.withColumn(\"year\", year(\"date\"))\n",
    "weather.groupBy(\"year\").agg(mean(\"wind\").alias(\"windiest\")).sort(desc(\"windiest\")).show()"
   ]
  },
  {
   "cell_type": "code",
   "execution_count": 77,
   "id": "47d3f054",
   "metadata": {},
   "outputs": [
    {
     "name": "stdout",
     "output_type": "stream",
     "text": [
      "+-------+--------------+\n",
      "|weather|count(weather)|\n",
      "+-------+--------------+\n",
      "|drizzle|            10|\n",
      "|   rain|            35|\n",
      "|    sun|            33|\n",
      "|   snow|             8|\n",
      "|    fog|            38|\n",
      "+-------+--------------+\n",
      "\n"
     ]
    }
   ],
   "source": [
    "weather=weather.withColumn(\"month\", month(\"date\"))\n",
    "weather1=weather[weather.month==1]\n",
    "weather1.groupBy(\"weather\").agg(count('weather')).show()"
   ]
  },
  {
   "cell_type": "code",
   "execution_count": 85,
   "id": "f7613981",
   "metadata": {},
   "outputs": [
    {
     "name": "stdout",
     "output_type": "stream",
     "text": [
      "+-------------+------------------+\n",
      "|quarter(date)|(avg(rainy) * 100)|\n",
      "+-------------+------------------+\n",
      "|            3|2.1739130434782608|\n",
      "+-------------+------------------+\n",
      "\n"
     ]
    }
   ],
   "source": [
    " (weather.filter(year(\"date\") == 2015)\n",
    "    .filter(quarter('date') == 3)\n",
    "    .withColumn(\"rainy\", (weather.weather == 'rain').cast(\"int\"))\n",
    "    .groupBy(quarter('date'))\n",
    "    .agg(mean('rainy') * 100)\n",
    "    \n",
    "    .show())"
   ]
  },
  {
   "cell_type": "code",
   "execution_count": 86,
   "id": "d6cd6493",
   "metadata": {},
   "outputs": [
    {
     "name": "stdout",
     "output_type": "stream",
     "text": [
      "+-------------+--------------------+\n",
      "|quarter(date)|(avg(raining) * 100)|\n",
      "+-------------+--------------------+\n",
      "|            3|  2.1739130434782608|\n",
      "+-------------+--------------------+\n",
      "\n"
     ]
    }
   ],
   "source": [
    "(\n",
    "    weather.filter(year(\"date\") == 2015)\n",
    "    .filter(quarter('date') == 3)\n",
    "    .withColumn(\"raining\", (weather.weather == 'rain').cast(\"int\"))\n",
    "    .groupBy(quarter('date'))\n",
    "    .agg(mean('raining') * 100)\n",
    "    \n",
    "    .show()\n",
    ")"
   ]
  },
  {
   "cell_type": "code",
   "execution_count": 84,
   "id": "6efb544f",
   "metadata": {},
   "outputs": [
    {
     "name": "stdout",
     "output_type": "stream",
     "text": [
      "+----------+---------------------+\n",
      "|year(date)|(avg(rain_day) * 100)|\n",
      "+----------+---------------------+\n",
      "|      2012|    48.36065573770492|\n",
      "|      2013|    41.64383561643836|\n",
      "|      2014|     41.0958904109589|\n",
      "|      2015|    39.45205479452055|\n",
      "+----------+---------------------+\n",
      "\n"
     ]
    }
   ],
   "source": [
    "(\n",
    "    weather.withColumn(\"rain_day\", (weather.precipitation != 0).cast(\"int\"))\n",
    "    .groupBy(year('date'))\n",
    "    .agg(mean('rain_day') * 100)\n",
    "    \n",
    "    .show()\n",
    ")"
   ]
  },
  {
   "cell_type": "code",
   "execution_count": null,
   "id": "e3006e4f",
   "metadata": {},
   "outputs": [],
   "source": []
  }
 ],
 "metadata": {
  "kernelspec": {
   "display_name": "Python 3 (ipykernel)",
   "language": "python",
   "name": "python3"
  },
  "language_info": {
   "codemirror_mode": {
    "name": "ipython",
    "version": 3
   },
   "file_extension": ".py",
   "mimetype": "text/x-python",
   "name": "python",
   "nbconvert_exporter": "python",
   "pygments_lexer": "ipython3",
   "version": "3.9.12"
  }
 },
 "nbformat": 4,
 "nbformat_minor": 5
}
